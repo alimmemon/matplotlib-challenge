{
 "cells": [
  {
   "cell_type": "markdown",
   "metadata": {},
   "source": [
    "## Observations and Insights"
   ]
  },
  {
   "cell_type": "markdown",
   "metadata": {},
   "source": []
  },
  {
   "cell_type": "markdown",
   "metadata": {},
   "source": [
    "## Dependencies and starter code"
   ]
  },
  {
   "cell_type": "code",
   "execution_count": 2,
   "metadata": {},
   "outputs": [
    {
     "data": {
      "text/html": [
       "<div>\n",
       "<style scoped>\n",
       "    .dataframe tbody tr th:only-of-type {\n",
       "        vertical-align: middle;\n",
       "    }\n",
       "\n",
       "    .dataframe tbody tr th {\n",
       "        vertical-align: top;\n",
       "    }\n",
       "\n",
       "    .dataframe thead th {\n",
       "        text-align: right;\n",
       "    }\n",
       "</style>\n",
       "<table border=\"1\" class=\"dataframe\">\n",
       "  <thead>\n",
       "    <tr style=\"text-align: right;\">\n",
       "      <th></th>\n",
       "      <th>Mouse ID</th>\n",
       "      <th>Timepoint</th>\n",
       "      <th>Tumor Volume (mm3)</th>\n",
       "      <th>Metastatic Sites</th>\n",
       "      <th>Drug Regimen</th>\n",
       "      <th>Sex</th>\n",
       "      <th>Age_months</th>\n",
       "      <th>Weight (g)</th>\n",
       "    </tr>\n",
       "  </thead>\n",
       "  <tbody>\n",
       "    <tr>\n",
       "      <td>0</td>\n",
       "      <td>b128</td>\n",
       "      <td>0</td>\n",
       "      <td>45.000000</td>\n",
       "      <td>0</td>\n",
       "      <td>Capomulin</td>\n",
       "      <td>Female</td>\n",
       "      <td>9</td>\n",
       "      <td>22</td>\n",
       "    </tr>\n",
       "    <tr>\n",
       "      <td>1</td>\n",
       "      <td>b128</td>\n",
       "      <td>5</td>\n",
       "      <td>45.651331</td>\n",
       "      <td>0</td>\n",
       "      <td>Capomulin</td>\n",
       "      <td>Female</td>\n",
       "      <td>9</td>\n",
       "      <td>22</td>\n",
       "    </tr>\n",
       "    <tr>\n",
       "      <td>2</td>\n",
       "      <td>b128</td>\n",
       "      <td>10</td>\n",
       "      <td>43.270852</td>\n",
       "      <td>0</td>\n",
       "      <td>Capomulin</td>\n",
       "      <td>Female</td>\n",
       "      <td>9</td>\n",
       "      <td>22</td>\n",
       "    </tr>\n",
       "    <tr>\n",
       "      <td>3</td>\n",
       "      <td>b128</td>\n",
       "      <td>15</td>\n",
       "      <td>43.784893</td>\n",
       "      <td>0</td>\n",
       "      <td>Capomulin</td>\n",
       "      <td>Female</td>\n",
       "      <td>9</td>\n",
       "      <td>22</td>\n",
       "    </tr>\n",
       "    <tr>\n",
       "      <td>4</td>\n",
       "      <td>b128</td>\n",
       "      <td>20</td>\n",
       "      <td>42.731552</td>\n",
       "      <td>0</td>\n",
       "      <td>Capomulin</td>\n",
       "      <td>Female</td>\n",
       "      <td>9</td>\n",
       "      <td>22</td>\n",
       "    </tr>\n",
       "  </tbody>\n",
       "</table>\n",
       "</div>"
      ],
      "text/plain": [
       "  Mouse ID  Timepoint  Tumor Volume (mm3)  Metastatic Sites Drug Regimen  \\\n",
       "0     b128          0           45.000000                 0    Capomulin   \n",
       "1     b128          5           45.651331                 0    Capomulin   \n",
       "2     b128         10           43.270852                 0    Capomulin   \n",
       "3     b128         15           43.784893                 0    Capomulin   \n",
       "4     b128         20           42.731552                 0    Capomulin   \n",
       "\n",
       "      Sex  Age_months  Weight (g)  \n",
       "0  Female           9          22  \n",
       "1  Female           9          22  \n",
       "2  Female           9          22  \n",
       "3  Female           9          22  \n",
       "4  Female           9          22  "
      ]
     },
     "execution_count": 2,
     "metadata": {},
     "output_type": "execute_result"
    }
   ],
   "source": [
    "# Dependencies and Setup\n",
    "import matplotlib.pyplot as plt\n",
    "import pandas as pd\n",
    "import scipy.stats as st\n",
    "import numpy as np\n",
    "\n",
    "# Study data files\n",
    "mouse_metadata = \"data/Mouse_metadata.csv\"\n",
    "study_results = \"data/Study_results.csv\"\n",
    "\n",
    "# Read the mouse data and the study results\n",
    "mouse_metadata = pd.read_csv(mouse_metadata)\n",
    "study_results = pd.read_csv(study_results)\n",
    "\n",
    "scientist_image= \"Images/Laboratory.jpg\"\n",
    "\n",
    "# Combine the data into a single dataset\n",
    "superset= pd.merge(study_results ,mouse_metadata) \n",
    "superset.head()\n",
    "\n"
   ]
  },
  {
   "cell_type": "markdown",
   "metadata": {},
   "source": [
    "## Summary statistics"
   ]
  },
  {
   "cell_type": "code",
   "execution_count": 3,
   "metadata": {},
   "outputs": [
    {
     "data": {
      "text/html": [
       "<div>\n",
       "<style scoped>\n",
       "    .dataframe tbody tr th:only-of-type {\n",
       "        vertical-align: middle;\n",
       "    }\n",
       "\n",
       "    .dataframe tbody tr th {\n",
       "        vertical-align: top;\n",
       "    }\n",
       "\n",
       "    .dataframe thead th {\n",
       "        text-align: right;\n",
       "    }\n",
       "</style>\n",
       "<table border=\"1\" class=\"dataframe\">\n",
       "  <thead>\n",
       "    <tr style=\"text-align: right;\">\n",
       "      <th></th>\n",
       "      <th>Regimen Mean</th>\n",
       "      <th>Regimen Median</th>\n",
       "      <th>Regimen Variance</th>\n",
       "      <th>Regimen STD</th>\n",
       "      <th>Sem Regimen</th>\n",
       "    </tr>\n",
       "    <tr>\n",
       "      <th>Drug Regimen</th>\n",
       "      <th></th>\n",
       "      <th></th>\n",
       "      <th></th>\n",
       "      <th></th>\n",
       "      <th></th>\n",
       "    </tr>\n",
       "  </thead>\n",
       "  <tbody>\n",
       "    <tr>\n",
       "      <td>Capomulin</td>\n",
       "      <td>40.68</td>\n",
       "      <td>41.56</td>\n",
       "      <td>24.95</td>\n",
       "      <td>4.99</td>\n",
       "      <td>0.33</td>\n",
       "    </tr>\n",
       "    <tr>\n",
       "      <td>Ceftamin</td>\n",
       "      <td>52.59</td>\n",
       "      <td>51.78</td>\n",
       "      <td>39.29</td>\n",
       "      <td>6.27</td>\n",
       "      <td>0.47</td>\n",
       "    </tr>\n",
       "    <tr>\n",
       "      <td>Infubinol</td>\n",
       "      <td>52.88</td>\n",
       "      <td>51.82</td>\n",
       "      <td>43.13</td>\n",
       "      <td>6.57</td>\n",
       "      <td>0.49</td>\n",
       "    </tr>\n",
       "    <tr>\n",
       "      <td>Ketapril</td>\n",
       "      <td>55.24</td>\n",
       "      <td>53.70</td>\n",
       "      <td>68.55</td>\n",
       "      <td>8.28</td>\n",
       "      <td>0.60</td>\n",
       "    </tr>\n",
       "    <tr>\n",
       "      <td>Naftisol</td>\n",
       "      <td>54.33</td>\n",
       "      <td>52.51</td>\n",
       "      <td>66.17</td>\n",
       "      <td>8.13</td>\n",
       "      <td>0.60</td>\n",
       "    </tr>\n",
       "    <tr>\n",
       "      <td>Placebo</td>\n",
       "      <td>54.03</td>\n",
       "      <td>52.29</td>\n",
       "      <td>61.17</td>\n",
       "      <td>7.82</td>\n",
       "      <td>0.58</td>\n",
       "    </tr>\n",
       "    <tr>\n",
       "      <td>Propriva</td>\n",
       "      <td>52.32</td>\n",
       "      <td>50.85</td>\n",
       "      <td>42.35</td>\n",
       "      <td>6.51</td>\n",
       "      <td>0.51</td>\n",
       "    </tr>\n",
       "    <tr>\n",
       "      <td>Ramicane</td>\n",
       "      <td>40.22</td>\n",
       "      <td>40.67</td>\n",
       "      <td>23.49</td>\n",
       "      <td>4.85</td>\n",
       "      <td>0.32</td>\n",
       "    </tr>\n",
       "    <tr>\n",
       "      <td>Stelasyn</td>\n",
       "      <td>54.23</td>\n",
       "      <td>52.43</td>\n",
       "      <td>59.45</td>\n",
       "      <td>7.71</td>\n",
       "      <td>0.57</td>\n",
       "    </tr>\n",
       "    <tr>\n",
       "      <td>Zoniferol</td>\n",
       "      <td>53.24</td>\n",
       "      <td>51.82</td>\n",
       "      <td>48.53</td>\n",
       "      <td>6.97</td>\n",
       "      <td>0.52</td>\n",
       "    </tr>\n",
       "  </tbody>\n",
       "</table>\n",
       "</div>"
      ],
      "text/plain": [
       "             Regimen Mean Regimen Median Regimen Variance Regimen STD  \\\n",
       "Drug Regimen                                                            \n",
       "Capomulin           40.68          41.56            24.95        4.99   \n",
       "Ceftamin            52.59          51.78            39.29        6.27   \n",
       "Infubinol           52.88          51.82            43.13        6.57   \n",
       "Ketapril            55.24          53.70            68.55        8.28   \n",
       "Naftisol            54.33          52.51            66.17        8.13   \n",
       "Placebo             54.03          52.29            61.17        7.82   \n",
       "Propriva            52.32          50.85            42.35        6.51   \n",
       "Ramicane            40.22          40.67            23.49        4.85   \n",
       "Stelasyn            54.23          52.43            59.45        7.71   \n",
       "Zoniferol           53.24          51.82            48.53        6.97   \n",
       "\n",
       "             Sem Regimen  \n",
       "Drug Regimen              \n",
       "Capomulin           0.33  \n",
       "Ceftamin            0.47  \n",
       "Infubinol           0.49  \n",
       "Ketapril            0.60  \n",
       "Naftisol            0.60  \n",
       "Placebo             0.58  \n",
       "Propriva            0.51  \n",
       "Ramicane            0.32  \n",
       "Stelasyn            0.57  \n",
       "Zoniferol           0.52  "
      ]
     },
     "execution_count": 3,
     "metadata": {},
     "output_type": "execute_result"
    }
   ],
   "source": [
    "# Generate a summary statistics table of mean, median, variance, standard deviation, and SEM of the tumor volume for each regimen\n",
    "mean_regimen= superset.groupby(['Drug Regimen'])['Tumor Volume (mm3)'].mean()\n",
    "median_regimen= superset.groupby(['Drug Regimen'])['Tumor Volume (mm3)'].median()\n",
    "variance_regimen= superset.groupby(['Drug Regimen'])['Tumor Volume (mm3)'].var()\n",
    "std_regimen= superset.groupby(['Drug Regimen'])['Tumor Volume (mm3)'].std()\n",
    "sem_regimen= superset.groupby(['Drug Regimen'])['Tumor Volume (mm3)'].sem()\n",
    "\n",
    "summary_df= pd.DataFrame({ \"Regimen Mean\": mean_regimen.map('{:,.2f}'.format),\n",
    "                          \"Regimen Median\": median_regimen.map('{:,.2f}'.format),\n",
    "                          \"Regimen Variance\": variance_regimen.map('{:,.2f}'.format),\n",
    "                          \"Regimen STD\": std_regimen.map('{:,.2f}'.format),\n",
    "                          \"Sem Regimen\": sem_regimen.map('{:,.2f}'.format)\n",
    "    \n",
    "})\n",
    "summary_df"
   ]
  },
  {
   "cell_type": "markdown",
   "metadata": {},
   "source": [
    "## Bar plots"
   ]
  },
  {
   "cell_type": "code",
   "execution_count": 4,
   "metadata": {},
   "outputs": [
    {
     "data": {
      "text/plain": [
       "<matplotlib.axes._subplots.AxesSubplot at 0x10d0e6c10>"
      ]
     },
     "execution_count": 4,
     "metadata": {},
     "output_type": "execute_result"
    },
    {
     "data": {
      "image/png": "[encoded data removed]",
      "text/plain": [
       "<Figure size 432x288 with 1 Axes>"
      ]
     },
     "metadata": {
      "needs_background": "light"
     },
     "output_type": "display_data"
    }
   ],
   "source": [
    "# Generate a bar plot showing number of data points for each treatment regimen using pandas\n",
    "regimen_points= superset.groupby(['Drug Regimen'])\n",
    "treatment_count= regimen_points['Mouse ID'].count()\n",
    "\n",
    "treatment_bar= treatment_count.plot(kind='bar', title='Amount of Data Points for Each Drug Regimen', xlim=(1,10))\n",
    "# plt.xticks(treatment_bar, size=14)\n",
    "treatment_bar.set(ylabel='Number of Points')\n",
    "\n",
    "treatment_bar\n",
    "\n",
    "\n"
   ]
  },
  {
   "cell_type": "code",
   "execution_count": 5,
   "metadata": {},
   "outputs": [
    {
     "data": {
      "text/plain": [
       "<function matplotlib.pyplot.show(*args, **kw)>"
      ]
     },
     "execution_count": 5,
     "metadata": {},
     "output_type": "execute_result"
    },
    {
     "data": {
      "image/png": "[encoded data removed]",
      "text/plain": [
       "<Figure size 432x288 with 1 Axes>"
      ]
     },
     "metadata": {
      "needs_background": "light"
     },
     "output_type": "display_data"
    }
   ],
   "source": [
    "# Generate a bar plot showing number of data points for each treatment regimen using pyplot\n",
    "plt.bar(treatment_count.index, treatment_count)\n",
    "plt.ylabel('Number of Point') #how can I increase the size of this \n",
    "plt.yticks(size =14)\n",
    "plt.xticks(size= 14, rotation=90)\n",
    "plt.title('Amount of Data Points for Each Drug Regimen')\n",
    "plt.show"
   ]
  },
  {
   "cell_type": "markdown",
   "metadata": {},
   "source": [
    "## Pie plots"
   ]
  },
  {
   "cell_type": "code",
   "execution_count": 6,
   "metadata": {},
   "outputs": [
    {
     "data": {
      "text/plain": [
       "Text(0, 0.5, 'Sex')"
      ]
     },
     "execution_count": 6,
     "metadata": {},
     "output_type": "execute_result"
    },
    {
     "data": {
      "image/png": "[encoded data removed]",
      "text/plain": [
       "<Figure size 432x288 with 1 Axes>"
      ]
     },
     "metadata": {},
     "output_type": "display_data"
    }
   ],
   "source": [
    "# Generate a pie plot showing the distribution of female versus male mice using pandas\n",
    "pie_count= superset.groupby('Sex')\n",
    "gender_pie= pie_count['Mouse ID'].count()\n",
    "gender_pie= gender_pie.plot(kind='pie', title='Treatment Distribution by Gender', autopct=\"%1.1f%%\", startangle=180)\n",
    "gender_pie.set_ylabel(\"Sex\")"
   ]
  },
  {
   "cell_type": "code",
   "execution_count": 7,
   "metadata": {},
   "outputs": [
    {
     "data": {
      "text/plain": [
       "<function matplotlib.pyplot.show(*args, **kw)>"
      ]
     },
     "execution_count": 7,
     "metadata": {},
     "output_type": "execute_result"
    },
    {
     "data": {
      "image/png": "[encoded data removed]",
      "text/plain": [
       "<Figure size 432x288 with 1 Axes>"
      ]
     },
     "metadata": {},
     "output_type": "display_data"
    }
   ],
   "source": [
    "# Generate a pie plot showing the distribution of female versus male mice using pyplot\n",
    "\n",
    "pie_count=superset['Sex'].value_counts(normalize = True)\n",
    "pie_count\n",
    "\n",
    "\n",
    "plt.pie(pie_count, labels= pie_count.index, autopct=\"%1.1f%%\", shadow=True, startangle=90)\n",
    "plt.title('Treatment Distribution by Gender')\n",
    "plt.show"
   ]
  },
  {
   "cell_type": "markdown",
   "metadata": {},
   "source": [
    "## Quartiles, outliers and boxplots"
   ]
  },
  {
   "cell_type": "code",
   "execution_count": 60,
   "metadata": {},
   "outputs": [
    {
     "name": "stdout",
     "output_type": "stream",
     "text": [
      "The lower quartile of Capomulin is: 32.37735684\n",
      "The upper quartile of Capomulin is: 40.1592203\n",
      "The interquartile range of Capomulin is: 7.781863460000004\n",
      "Values below 20.70456164999999 could be outliers\n",
      "Values above 51.83201549 could be outliers\n",
      "The smallest tumor of Capomulin is: 23.34359787\n",
      "The largest tumor of Capomulin is: 47.68596303\n",
      "\n",
      " And the next drug is Capomulin\n",
      "\n",
      "The lower quartile of Infubinol is: 54.04860769\n",
      "The upper quartile of Infubinol is: 65.52574285\n",
      "The interquartile range of Infubinol is: 11.477135160000003\n",
      "Values below 36.83290494999999 could be outliers\n",
      "Values above 82.74144559000001 could be outliers\n",
      "The smallest tumor of Infubinol is: 36.321345799999996\n",
      "The largest tumor of Infubinol is: 72.2267309\n",
      "***There is an outlier for Infubinol.***\n",
      "\n",
      " And the next drug is Infubinol\n",
      "\n",
      "The lower quartile of Ramicane is: 31.56046955\n",
      "The upper quartile of Ramicane is: 40.65900627\n",
      "The interquartile range of Ramicane is: 9.098536719999998\n",
      "Values below 17.912664470000003 could be outliers\n",
      "Values above 54.30681135 could be outliers\n",
      "The smallest tumor of Ramicane is: 22.05012627\n",
      "The largest tumor of Ramicane is: 45.22086888\n",
      "\n",
      " And the next drug is Ramicane\n",
      "\n",
      "The lower quartile of Ceftamin is: 48.72207785\n",
      "The upper quartile of Ceftamin is: 64.29983003\n",
      "The interquartile range of Ceftamin is: 15.577752179999997\n",
      "Values below 25.355449580000002 could be outliers\n",
      "Values above 87.66645829999999 could be outliers\n",
      "The smallest tumor of Ceftamin is: 45.0\n",
      "The largest tumor of Ceftamin is: 68.92318457\n",
      "\n",
      " And the next drug is Ceftamin\n",
      "\n"
     ]
    }
   ],
   "source": [
    "# Calculate the final tumor volume of each mouse across four of the most promising treatment regimens. Calculate the IQR and quantitatively determine if there are any potential outliers. \n",
    "\n",
    "mouse_final_tumor = superset.loc[superset.groupby(\"Mouse ID\").Timepoint.idxmax()]\n",
    "mouse_final_tumor.head()\n",
    "\n",
    "drug_list=['Capomulin', 'Infubinol', 'Ramicane', 'Ceftamin']\n",
    "\n",
    "for drug in drug_list:\n",
    "    drug_df = mouse_final_tumor[mouse_final_tumor[\"Drug Regimen\"] == drug]\n",
    "    \n",
    "    quartiles = drug_df[\"Tumor Volume (mm3)\"].quantile([.25,.5,.75])\n",
    "    lowerq = quartiles[0.25]\n",
    "    upperq = quartiles[0.75]\n",
    "    iqr = upperq-lowerq\n",
    "    \n",
    "    print(f\"The lower quartile of {drug} is: {lowerq}\")\n",
    "    print(f\"The upper quartile of {drug} is: {upperq}\")\n",
    "    print(f\"The interquartile range of {drug} is: {iqr}\")\n",
    "    \n",
    "    lower_bound = lowerq - (1.5*iqr)\n",
    "    upper_bound = upperq + (1.5*iqr)\n",
    "    \n",
    "    print(f\"Values below {lower_bound} could be outliers\")\n",
    "    print(f\"Values above {upper_bound} could be outliers\")\n",
    "    \n",
    "    min_tumor = drug_df[\"Tumor Volume (mm3)\"].min()\n",
    "    max_tumor = drug_df[\"Tumor Volume (mm3)\"].max()\n",
    "    \n",
    "    print(f\"The smallest tumor of {drug} is: {min_tumor}\")\n",
    "    print(f\"The largest tumor of {drug} is: {max_tumor}\")\n",
    "    \n",
    "    if min_tumor < lower_bound or max_tumor > upper_bound:\n",
    "        print(f\"***There is an outlier for {drug}.***\")\n",
    "        \n",
    "    print(f\"\\n And the next drug is {drug}\\n\")\n",
    "\n",
    "\n"
   ]
  },
  {
   "cell_type": "code",
   "execution_count": 9,
   "metadata": {
    "scrolled": true
   },
   "outputs": [
    {
     "ename": "AttributeError",
     "evalue": "'Figure' object has no attribute 'set_title'",
     "output_type": "error",
     "traceback": [
      "\u001b[0;31m---------------------------------------------------------------------------\u001b[0m",
      "\u001b[0;31mAttributeError\u001b[0m                            Traceback (most recent call last)",
      "\u001b[0;32m<ipython-input-9-29cb0999bdff>\u001b[0m in \u001b[0;36m<module>\u001b[0;34m\u001b[0m\n\u001b[1;32m      1\u001b[0m \u001b[0;31m# Generate a box plot of the final tumor volume of each mouse across four regimens of interest\u001b[0m\u001b[0;34m\u001b[0m\u001b[0;34m\u001b[0m\u001b[0;34m\u001b[0m\u001b[0m\n\u001b[1;32m      2\u001b[0m \u001b[0max1\u001b[0m\u001b[0;34m,\u001b[0m \u001b[0mdrug_df\u001b[0m \u001b[0;34m=\u001b[0m \u001b[0mplt\u001b[0m\u001b[0;34m.\u001b[0m\u001b[0msubplots\u001b[0m\u001b[0;34m(\u001b[0m\u001b[0;34m)\u001b[0m\u001b[0;34m\u001b[0m\u001b[0;34m\u001b[0m\u001b[0m\n\u001b[0;32m----> 3\u001b[0;31m \u001b[0max1\u001b[0m\u001b[0;34m.\u001b[0m\u001b[0mset_title\u001b[0m\u001b[0;34m(\u001b[0m\u001b[0;34m'Outliers'\u001b[0m\u001b[0;34m)\u001b[0m\u001b[0;34m\u001b[0m\u001b[0;34m\u001b[0m\u001b[0m\n\u001b[0m\u001b[1;32m      4\u001b[0m \u001b[0max1\u001b[0m\u001b[0;34m.\u001b[0m\u001b[0mset_ylabel\u001b[0m\u001b[0;34m(\u001b[0m\u001b[0;34m'dsdsd'\u001b[0m\u001b[0;34m)\u001b[0m\u001b[0;34m\u001b[0m\u001b[0;34m\u001b[0m\u001b[0m\n\u001b[1;32m      5\u001b[0m \u001b[0max1\u001b[0m\u001b[0;34m.\u001b[0m\u001b[0mboxplot\u001b[0m\u001b[0;34m(\u001b[0m\u001b[0mtimes\u001b[0m\u001b[0;34m)\u001b[0m\u001b[0;34m\u001b[0m\u001b[0;34m\u001b[0m\u001b[0m\n",
      "\u001b[0;31mAttributeError\u001b[0m: 'Figure' object has no attribute 'set_title'"
     ]
    },
    {
     "data": {
      "image/png": "[encoded data removed]",
      "text/plain": [
       "<Figure size 432x288 with 1 Axes>"
      ]
     },
     "metadata": {
      "needs_background": "light"
     },
     "output_type": "display_data"
    }
   ],
   "source": [
    "# Generate a box plot of the final tumor volume of each mouse across four regimens of interest\n",
    "ax1, drug_df = plt.subplots()\n",
    "ax1.set_title('Outliers')\n",
    "ax1.set_ylabel('dsdsd')\n",
    "ax1.boxplot(times)\n",
    "plt.show(drug_df)"
   ]
  },
  {
   "cell_type": "code",
   "execution_count": 44,
   "metadata": {},
   "outputs": [
    {
     "ename": "TypeError",
     "evalue": "xticks() takes from 0 to 2 positional arguments but 4 were given",
     "output_type": "error",
     "traceback": [
      "\u001b[0;31m---------------------------------------------------------------------------\u001b[0m",
      "\u001b[0;31mTypeError\u001b[0m                                 Traceback (most recent call last)",
      "\u001b[0;32m<ipython-input-44-2dd122983372>\u001b[0m in \u001b[0;36m<module>\u001b[0;34m\u001b[0m\n\u001b[1;32m      7\u001b[0m \u001b[0mplt\u001b[0m\u001b[0;34m.\u001b[0m\u001b[0mtitle\u001b[0m\u001b[0;34m(\u001b[0m\u001b[0;34m'Tumor Sizes of Mice treated with Drug Regimens'\u001b[0m\u001b[0;34m)\u001b[0m\u001b[0;34m\u001b[0m\u001b[0;34m\u001b[0m\u001b[0m\n\u001b[1;32m      8\u001b[0m \u001b[0;31m# plt.ylabel('Tumor Volume (mm3)') not working\u001b[0m\u001b[0;34m\u001b[0m\u001b[0;34m\u001b[0m\u001b[0;34m\u001b[0m\u001b[0m\n\u001b[0;32m----> 9\u001b[0;31m \u001b[0mplt\u001b[0m\u001b[0;34m.\u001b[0m\u001b[0mxticks\u001b[0m\u001b[0;34m(\u001b[0m\u001b[0mdrug_1\u001b[0m\u001b[0;34m,\u001b[0m \u001b[0mdrug_2\u001b[0m\u001b[0;34m,\u001b[0m \u001b[0mdrug_3\u001b[0m\u001b[0;34m,\u001b[0m \u001b[0mdrug_4\u001b[0m \u001b[0;34m)\u001b[0m\u001b[0;34m\u001b[0m\u001b[0;34m\u001b[0m\u001b[0m\n\u001b[0m\u001b[1;32m     10\u001b[0m \u001b[0mplt\u001b[0m\u001b[0;34m.\u001b[0m\u001b[0mboxplot\u001b[0m \u001b[0;34m(\u001b[0m\u001b[0;34m[\u001b[0m\u001b[0mdrug_1\u001b[0m\u001b[0;34m,\u001b[0m \u001b[0mdrug_2\u001b[0m\u001b[0;34m,\u001b[0m \u001b[0mdrug_3\u001b[0m\u001b[0;34m,\u001b[0m \u001b[0mdrug_4\u001b[0m\u001b[0;34m]\u001b[0m\u001b[0;34m)\u001b[0m\u001b[0;34m\u001b[0m\u001b[0;34m\u001b[0m\u001b[0m\n\u001b[1;32m     11\u001b[0m \u001b[0;34m\u001b[0m\u001b[0m\n",
      "\u001b[0;31mTypeError\u001b[0m: xticks() takes from 0 to 2 positional arguments but 4 were given"
     ]
    },
    {
     "data": {
      "image/png": "[encoded data removed]",
      "text/plain": [
       "<Figure size 432x288 with 1 Axes>"
      ]
     },
     "metadata": {
      "needs_background": "light"
     },
     "output_type": "display_data"
    }
   ],
   "source": [
    "\n",
    "drug_1 = mouse_final_tumor[mouse_final_tumor[\"Drug Regimen\"] == \"Ramicane\"][\"Tumor Volume (mm3)\"]\n",
    "drug_2 = mouse_final_tumor[mouse_final_tumor[\"Drug Regimen\"] == \"Capomulin\"][\"Tumor Volume (mm3)\"]\n",
    "drug_3 = mouse_final_tumor[mouse_final_tumor[\"Drug Regimen\"] == \"Infubinol\"][\"Tumor Volume (mm3)\"]\n",
    "drug_4 = mouse_final_tumor[mouse_final_tumor[\"Drug Regimen\"] == \"Ceftamin\"][\"Tumor Volume (mm3)\"]\n",
    "\n",
    "\n",
    "plt.title('Tumor Sizes of Mice treated with Drug Regimens')\n",
    "# plt.ylabel('Tumor Volume (mm3)') not working\n",
    "plt.xticks(drug_1, drug_2, drug_3, drug_4 )\n",
    "plt.boxplot ([drug_1, drug_2, drug_3, drug_4])\n",
    "\n"
   ]
  },
  {
   "cell_type": "markdown",
   "metadata": {},
   "source": [
    "## Line and scatter plots"
   ]
  },
  {
   "cell_type": "code",
   "execution_count": null,
   "metadata": {},
   "outputs": [],
   "source": [
    "# Generate a line plot of time point versus tumor volume for a mouse treated with Capomulin\n"
   ]
  },
  {
   "cell_type": "code",
   "execution_count": null,
   "metadata": {},
   "outputs": [],
   "source": [
    "# Generate a scatter plot of mouse weight versus average tumor volume for the Capomulin regimen\n"
   ]
  },
  {
   "cell_type": "code",
   "execution_count": null,
   "metadata": {},
   "outputs": [],
   "source": [
    "# Calculate the correlation coefficient and linear regression model for mouse weight and average tumor volume for the Capomulin regimen\n"
   ]
  },
  {
   "cell_type": "code",
   "execution_count": null,
   "metadata": {},
   "outputs": [],
   "source": []
  }
 ],
 "metadata": {
  "anaconda-cloud": {},
  "kernelspec": {
   "display_name": "Python 3",
   "language": "python",
   "name": "python3"
  },
  "language_info": {
   "codemirror_mode": {
    "name": "ipython",
    "version": 3
   },
   "file_extension": ".py",
   "mimetype": "text/x-python",
   "name": "python",
   "nbconvert_exporter": "python",
   "pygments_lexer": "ipython3",
   "version": "3.7.4"
  }
 },
 "nbformat": 4,
 "nbformat_minor": 2
}
